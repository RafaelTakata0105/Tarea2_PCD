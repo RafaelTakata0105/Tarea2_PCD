{
 "cells": [
  {
   "cell_type": "markdown",
   "id": "c94a4c1b",
   "metadata": {},
   "source": [
    "# MLOps\n",
    "\n",
    "#### Rafael Takata Garcia\n",
    "#### Proyecto de Ciencia de Datos"
   ]
  }
 ],
 "metadata": {
  "language_info": {
   "name": "python"
  }
 },
 "nbformat": 4,
 "nbformat_minor": 5
}
