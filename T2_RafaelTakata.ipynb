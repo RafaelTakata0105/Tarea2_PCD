{
 "cells": [
  {
   "cell_type": "markdown",
   "id": "c94a4c1b",
   "metadata": {},
   "source": [
    "# MLOps\n",
    "\n",
    "#### Rafael Takata Garcia\n",
    "#### Proyecto de Ciencia de Datos"
   ]
  },
  {
   "cell_type": "markdown",
   "id": "1af9a222",
   "metadata": {},
   "source": [
    "#### ¿Qué es MLOps?\n",
    "\n",
    "MLOps son un conjunto de prácticas recomendadas que se establecieron específicamente para machine learning en el día a día de la empresa. Es un sistema que permite el desarrollo de estos algoritmos de manera controlada en la operación de la empresa.\n",
    "\n",
    "El machine learning en si ayuda a las organizaciones a analizar los datos y obtener información para tomar decisiones. Sin embargo, es un campo innovador y experimental que presenta sus propios desafíos, además por si solos, los modelos no pueden generar valor sin las practicas adecuadas para su desarrollo, los MLOps nos muestran este camino hacia los resultados esperados."
   ]
  },
  {
   "cell_type": "markdown",
   "id": "5005b663",
   "metadata": {},
   "source": [
    "##### Las cuatro claves de MLOps\n",
    "\n",
    "Control de versiones\n",
    "\n",
    "Seguimiento de los cambios en el desarrollo de las aplicaciones, esto permite la reproducción de resultados y la implementación de una nueva caracteristica sin afectar el funcionamiento actual del modelo.\n",
    "\n",
    "Automatización\n",
    "\n",
    "Debe de haber un sistema automatizado que permite la escalabilidad, coherencia y repetibilidad durante todo el proceso de Machine Learning\n",
    "\n",
    "Actividades continuas\n",
    "\n",
    "Se refiere a un proceso de validación de los modelos para asegurar que realicen su trabajo de forma correcta a pesar de los nuevos cambios.\n",
    "\n",
    "Gobernanza de los modelos\n",
    "\n",
    "La manera de administrar todo lo relacionado con el modelo, desde la seguridad de los datos hasta la comunicación efeectiva de los resultados."
   ]
  },
  {
   "cell_type": "markdown",
   "id": "f3e46682",
   "metadata": {},
   "source": [
    "##### Beneficios\n",
    "\n",
    "Los MLOps permiten a las empresas agilizar su despliegue de modelos, su entorno de pruebas y un constante monitoreo de los modelos en producción. En busca de una mejora continua, desarrollando un ambiente ideal para la generación de estas tecnologías. \n",
    "\n",
    "Surgen como una implementación de los beneficios de DevOps en los proyectos de machine learning. Las MLOps dan como resultado una implementación más rápida de los modelos de ML, mayor precisión a lo largo del tiempo y mayor seguridad de que aportan valor real a la empresa."
   ]
  },
  {
   "cell_type": "markdown",
   "id": "a28ba088",
   "metadata": {},
   "source": [
    "Bibliografía:\n",
    "\n",
    "¿Qué son las MLOps?: explicación de las operaciones de machine learning en AWS. (s. f.). Amazon Web Services, Inc. https://aws.amazon.com/es/what-is/mlops"
   ]
  }
 ],
 "metadata": {
  "language_info": {
   "name": "python"
  }
 },
 "nbformat": 4,
 "nbformat_minor": 5
}
